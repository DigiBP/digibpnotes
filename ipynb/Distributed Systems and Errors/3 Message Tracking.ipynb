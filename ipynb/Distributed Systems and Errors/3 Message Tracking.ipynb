{
 "cells": [
  {
   "cell_type": "markdown",
   "source": "# Messaging with Tracking",
   "metadata": {
    "cell_id": "f29f3ba1141d4605958743132af70fbd",
    "tags": [],
    "is_collapsed": false,
    "deepnote_cell_type": "text-cell-h1"
   }
  },
  {
   "cell_type": "markdown",
   "source": "*Characteristics:*\n- Collaboration Style: **Events = Choreography**\n- System Style: **Reactive**\n- Communication Style: **Asynchronous (Non-Blocking)**\n- Flow: **Tracking**",
   "metadata": {
    "cell_id": "5d6e1bfb377f4a03b05b7dba94644967",
    "tags": [],
    "deepnote_cell_type": "markdown",
    "deepnote_cell_height": 181
   }
  },
  {
   "cell_type": "markdown",
   "source": "## Process / Scenario",
   "metadata": {
    "cell_id": "a1966427d49144b4bfce2db5aec37338",
    "tags": [],
    "is_collapsed": false,
    "deepnote_cell_type": "text-cell-h2"
   }
  },
  {
   "cell_type": "markdown",
   "source": "The following \"Order Fulfilment\" process model depicts the tracked choreography.\n\n![](/images/Track-Flow.png)\n\n### Tasks\nInstruction to run/do the exercise:\n1. You may register on [CloudAMQP for a free RabbitMQ](https://www.cloudamqp.com) instance (optional).\n2. Add the AMQP URL of your own RabbitMQ instance or a provided one to the follwoing textbox:",
   "metadata": {
    "cell_id": "e1f2748a2de448d18191ae3c71ea0006",
    "tags": [],
    "deepnote_cell_type": "markdown",
    "deepnote_cell_height": 830.183349609375
   }
  },
  {
   "cell_type": "code",
   "metadata": {
    "cell_id": "013f3d61dc3e46859673621cbfe77842",
    "deepnote_variable_name": "amqp_url",
    "deepnote_variable_value": "",
    "deepnote_to_be_reexecuted": false,
    "source_hash": "845525ea",
    "execution_start": 1649151902411,
    "execution_millis": 0,
    "output_cleared": true,
    "deepnote_cell_type": "input-text"
   },
   "source": "amqp_url = ''",
   "execution_count": 2,
   "outputs": []
  },
  {
   "cell_type": "markdown",
   "source": "3. Make sure that you use the right tenant:",
   "metadata": {
    "cell_id": "67cb839af06b4e30a0e2d9621a522c0b",
    "tags": [],
    "deepnote_cell_type": "markdown",
    "deepnote_cell_height": 69.39999389648438
   }
  },
  {
   "cell_type": "code",
   "metadata": {
    "cell_id": "70c5e8874e5b48688d0e9e569da214c7",
    "deepnote_variable_name": "tenant",
    "deepnote_variable_value": "showcase",
    "deepnote_to_be_reexecuted": false,
    "source_hash": "ea2f0b89",
    "execution_start": 1649151902322,
    "execution_millis": 1,
    "output_cleared": true,
    "deepnote_cell_type": "input-text"
   },
   "source": "tenant = 'showcase'",
   "execution_count": 1,
   "outputs": []
  },
  {
   "cell_type": "markdown",
   "source": "4. Download the process model ([download BPMN model - here](https://cdn.jsdelivr.net/gh/DigiBP/digibpnotes@main/modelling/Distributed%20Systems%20and%20Errors/Track-Flow.bpmn)) and open it in the Camunda Modeler.\n5. Deploy the process model with the Camunda Modeler to the classroom instance with your **tenant**.\n6. Make sure that you have the correct Camunda engine URL:",
   "metadata": {
    "cell_id": "388aecc03f014853899664f24bf52576",
    "tags": [],
    "deepnote_cell_type": "markdown",
    "deepnote_cell_height": 120.19999694824219
   }
  },
  {
   "cell_type": "code",
   "metadata": {
    "cell_id": "58e044c24e8c4eb392180170939403c0",
    "deepnote_variable_name": "camunda_eninge_rest",
    "deepnote_variable_value": "https://digibp.herokuapp.com/engine-rest",
    "deepnote_to_be_reexecuted": false,
    "source_hash": "2f31b90",
    "execution_start": 1649151645841,
    "execution_millis": 265532,
    "output_cleared": true,
    "deepnote_cell_type": "input-text"
   },
   "source": "camunda_eninge_rest = 'https://digibp.herokuapp.com/engine-rest'",
   "execution_count": null,
   "outputs": []
  },
  {
   "cell_type": "markdown",
   "source": "7. Run the notebook in Deepnote.\n8. Investigate the process instantiated in the Camunda Cockpit and inspect the Deepnote output.",
   "metadata": {
    "cell_id": "a1cdc3e6314a489b999f087b6fc1e45e",
    "tags": [],
    "deepnote_cell_type": "markdown",
    "deepnote_cell_height": 94.80000305175781
   }
  },
  {
   "cell_type": "code",
   "metadata": {
    "cell_id": "51f784819c1447f682fda30e324b5b20",
    "tags": [],
    "deepnote_to_be_reexecuted": false,
    "source_hash": "f6465ed8",
    "execution_start": 1649151645843,
    "execution_millis": 265492,
    "is_code_hidden": true,
    "output_cleared": true,
    "deepnote_cell_type": "code",
    "deepnote_cell_height": 74.80000305175781
   },
   "source": "if not amqp_url:\n    import os\n    amqp_url = os.environ.get('AMQP_URL')",
   "execution_count": null,
   "outputs": []
  },
  {
   "cell_type": "markdown",
   "source": "## Message Model",
   "metadata": {
    "cell_id": "3378a9482fb1484998c5f2f81d16d407",
    "tags": [],
    "is_collapsed": false,
    "deepnote_cell_type": "text-cell-h2"
   }
  },
  {
   "cell_type": "markdown",
   "source": "Below you will find the message model that is used for the message exchange, including `businessKey` generation using a UUID and `tenant` configuration:",
   "metadata": {
    "cell_id": "c5bf8e6e3dd242b99c0e5d6f2cbd42c9",
    "tags": [],
    "deepnote_cell_type": "markdown",
    "deepnote_cell_height": 52.399993896484375
   }
  },
  {
   "cell_type": "code",
   "metadata": {
    "tags": [],
    "cell_id": "06c15c41-7706-45d2-8f47-2cefae08450e",
    "deepnote_to_be_reexecuted": false,
    "source_hash": "94d1c4be",
    "execution_start": 1649151645844,
    "execution_millis": 38,
    "output_cleared": true,
    "deepnote_cell_type": "code",
    "deepnote_cell_height": 405
   },
   "source": "from typing import Optional\nfrom pydantic import BaseModel\nimport uuid\n\n\nclass Message(BaseModel):\n    businessKey: str\n    tenant: str\n    command: Optional[str] = None\n    event: Optional[str] = None\n    payload: Optional[str] = None\n\n\nmessage = Message(\n    **{\n        \"businessKey\": str(uuid.uuid1()),\n        \"tenant\": tenant\n    }\n)",
   "execution_count": null,
   "outputs": []
  },
  {
   "cell_type": "markdown",
   "source": "## Message Queues and Routing",
   "metadata": {
    "cell_id": "6d0f507330da4423922479aa7d0db8e9",
    "tags": [],
    "is_collapsed": false,
    "deepnote_cell_type": "text-cell-h2"
   }
  },
  {
   "cell_type": "markdown",
   "source": "In the following, the [Pika](https://pika.readthedocs.io) library providing AMQP protocol in Python is used to connect to RabbitMQ and declare four queues `order`, `payment`, `inventory`, and the **flow tracking** queue `order_fulfillment`. In order to be able to track the message exchange and thus the flow, so-called bindings with `exchange` and routings (`routing_key`) is defined.",
   "metadata": {
    "cell_id": "337e4f773e034985b20b6049f1a8b151",
    "tags": [],
    "deepnote_cell_type": "markdown",
    "deepnote_cell_height": 74.80000305175781
   }
  },
  {
   "cell_type": "code",
   "metadata": {
    "cell_id": "049728cffb9e4208a8ed722cd6718d8a",
    "tags": [],
    "deepnote_to_be_reexecuted": false,
    "source_hash": "ec8319e5",
    "execution_start": 1649151645887,
    "execution_millis": 1833,
    "output_cleared": true,
    "deepnote_cell_type": "code",
    "deepnote_cell_height": 549
   },
   "source": "import pika\n\nparams = pika.URLParameters(amqp_url)\n# Connect to RabbitMQ\nconnection = pika.BlockingConnection(params)\nchannel = connection.channel()\n# Declare order queue\nchannel.queue_declare(queue=\"order\")\n# Declare payment queue\nchannel.queue_declare(queue=\"payment\")\n# Declare inventory queue\nchannel.queue_declare(queue=\"inventory\")\n# Declare order fulfillment queue\nchannel.queue_declare(queue=\"order_fulfillment\")\n\n# Declare message routings\nchannel.exchange_declare(exchange=tenant)\nchannel.queue_bind(exchange=tenant, queue=\"order\", routing_key=\"order\")\nchannel.queue_bind(exchange=tenant, queue=\"payment\", routing_key=\"payment\")\nchannel.queue_bind(exchange=tenant, queue=\"inventory\", routing_key=\"inventory\")\nchannel.queue_bind(exchange=tenant, queue=\"order_fulfillment\", routing_key=\"order\")\nchannel.queue_bind(exchange=tenant, queue=\"order_fulfillment\", routing_key=\"payment\")\nchannel.queue_bind(exchange=tenant, queue=\"order_fulfillment\", routing_key=\"inventory\")\nchannel.queue_bind(exchange=tenant, queue=\"order_fulfillment\", routing_key=\"shipment\")\n\nconnection.close()\n",
   "execution_count": null,
   "outputs": []
  },
  {
   "cell_type": "markdown",
   "source": "## Initial Event",
   "metadata": {
    "cell_id": "29ebe4be39e840e1aa090a78e40ea615",
    "tags": [],
    "is_collapsed": false,
    "deepnote_cell_type": "text-cell-h2"
   }
  },
  {
   "cell_type": "markdown",
   "source": "In the following, an initial event `Order_Placed` is published to mimic a checkout and initialize the **tracked** choreography:",
   "metadata": {
    "cell_id": "b04fa7e41e56457084d419c266505586",
    "tags": [],
    "deepnote_cell_type": "markdown",
    "deepnote_cell_height": 52.399993896484375
   }
  },
  {
   "cell_type": "code",
   "metadata": {
    "cell_id": "dca17cb53cf54dccb564fc4ea8715118",
    "tags": [],
    "deepnote_to_be_reexecuted": false,
    "source_hash": "ed632f2a",
    "execution_start": 1649151647735,
    "execution_millis": 776,
    "output_cleared": true,
    "deepnote_cell_type": "code",
    "deepnote_cell_height": 328.20001220703125
   },
   "source": "import pika, pickle\n\nparams = pika.URLParameters(amqp_url)\nconnection = pika.BlockingConnection(params)\nchannel = connection.channel()\n\n# Define and publish (send) the Order_Placed event\nmessage.event = \"Order_Placed\"\nchannel.basic_publish(exchange=tenant, routing_key=\"order\", body=pickle.dumps(message))\nprint(\"Order_Placed message sent.\")\n\nconnection.close()\n",
   "execution_count": null,
   "outputs": []
  },
  {
   "cell_type": "markdown",
   "source": "## Message Subscription of Microservices and Tracker",
   "metadata": {
    "cell_id": "fc6cda64afcd4630b94e3463352214a9",
    "tags": [],
    "is_collapsed": false,
    "deepnote_cell_type": "text-cell-h2"
   }
  },
  {
   "cell_type": "markdown",
   "source": "In the following, three microservices are imitated, each of which has a subscription of one queue. After a message is received, a subsequent event is queued again. In addition, an `order_fulfillment` microservice is implemented, which receives all events of the choreography and forwards them to the BPMN process as messages via the Camunda REST API.",
   "metadata": {
    "cell_id": "bf9c5cef93464df7b7a7bf19355ef468",
    "tags": [],
    "deepnote_cell_type": "markdown",
    "deepnote_cell_height": 74.80000305175781
   }
  },
  {
   "cell_type": "code",
   "metadata": {
    "cell_id": "8695a13ad4be4662bee731325e74016e",
    "tags": [],
    "deepnote_to_be_reexecuted": false,
    "source_hash": "57a33493",
    "execution_start": 1649151648508,
    "execution_millis": 78352,
    "output_cleared": true,
    "deepnote_cell_type": "code",
    "deepnote_cell_height": 1521.5999755859375
   },
   "source": "import pika, pickle, requests, signal\n\nparams = pika.URLParameters(amqp_url)\nconnection = pika.BlockingConnection(params)\nchannel = connection.channel()\n\n# Order fulfillment tracking microservice callback function\ndef order_fulfillment(channel, method, properties, body):\n    message = pickle.loads(body)\n    print(\"Received \" + str(message))\n    request_data = {\n        \"messageName\": message.event,\n        \"businessKey\": message.businessKey,\n        \"tenantId\": message.tenant,\n    }\n    response = requests.post(camunda_eninge_rest + \"/message\", json=request_data)\n    return\n\n\n# Payment microservice callback function\ndef payment(channel, method, properties, body):\n    message = pickle.loads(body)\n    print(\"Received \" + str(message))\n    message.event = \"Payment_Done\"\n    channel.basic_publish(\n        exchange=tenant, routing_key=\"payment\", body=pickle.dumps(message)\n    )\n    return\n\n\n# Inventory microservice callback function\ndef inventory(channel, method, properties, body):\n    message = pickle.loads(body)\n    print(\"Received \" + str(message))\n    message.event = \"Goods_Fetched\"\n    channel.basic_publish(\n        exchange=tenant, routing_key=\"inventory\", body=pickle.dumps(message)\n    )\n    return\n\n\n# Shipment microservice callback function\ndef shipment(channel, method, properties, body):\n    message = pickle.loads(body)\n    print(\"Received \" + str(message))\n    message.event = \"Goods_Shipped\"\n    channel.basic_publish(\n        exchange=tenant, routing_key=\"shipment\", body=pickle.dumps(message)\n    )\n    return\n\n\n# Subscriptions on queues\nchannel.basic_consume(\"order_fulfillment\", order_fulfillment, auto_ack=True)\nchannel.basic_consume(\"order\", payment, auto_ack=True)\nchannel.basic_consume(\"payment\", inventory, auto_ack=True)\nchannel.basic_consume(\"inventory\", shipment, auto_ack=True)\n\n\ndef close_handler(signal, frame):\n    connection.close()\n\n\n# Run consuming server\ntry:\n    signal.signal(signal.SIGINT, close_handler)\n    channel.start_consuming()\nexcept Exception as e:\n    print(e)\n",
   "execution_count": null,
   "outputs": []
  },
  {
   "cell_type": "markdown",
   "source": "<a style='text-decoration:none;line-height:16px;display:flex;color:#5B5B62;padding:10px;justify-content:end;' href='https://deepnote.com?utm_source=created-in-deepnote-cell&projectId=5f4dd5da-1c7b-41a5-9634-cafd01851cb8' target=\"_blank\">\n<img alt='Created in deepnote.com' style='display:inline;max-height:16px;margin:0px;margin-right:7.5px;' src='data:image/svg+xml;base64,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' > </img>\nCreated in <span style='font-weight:600;margin-left:4px;'>Deepnote</span></a>",
   "metadata": {
    "tags": [],
    "created_in_deepnote_cell": true,
    "deepnote_cell_type": "markdown"
   }
  }
 ],
 "nbformat": 4,
 "nbformat_minor": 2,
 "metadata": {
  "orig_nbformat": 2,
  "deepnote": {
   "is_reactive": false
  },
  "deepnote_notebook_id": "0d6370e8-8fde-42bb-82d5-1ea272d875d4",
  "deepnote_execution_queue": []
 }
}