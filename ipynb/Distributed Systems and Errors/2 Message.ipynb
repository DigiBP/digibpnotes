{
 "cells": [
  {
   "cell_type": "code",
   "metadata": {
    "deepnote_variable_name": "tenant",
    "deepnote_variable_value": "TEAM10",
    "deepnote_to_be_reexecuted": false,
    "source_hash": "6083972c",
    "execution_start": 1649012553023,
    "execution_millis": 54593,
    "cell_id": "abfb23b1-57fe-47fc-a6a8-72672142ed4b",
    "deepnote_cell_type": "input-text"
   },
   "source": "tenant = 'TEAM10'",
   "execution_count": 1,
   "outputs": []
  },
  {
   "cell_type": "code",
   "metadata": {
    "deepnote_variable_name": "amqp_url",
    "deepnote_variable_value": "",
    "deepnote_to_be_reexecuted": false,
    "source_hash": "845525ea",
    "execution_start": 1649012553025,
    "execution_millis": 54608,
    "cell_id": "00002-7596e2bc-dbcf-4258-a28c-7e34b1654b68",
    "deepnote_cell_type": "input-text"
   },
   "source": "amqp_url = ''",
   "execution_count": 3,
   "outputs": []
  },
  {
   "cell_type": "code",
   "metadata": {
    "tags": [],
    "deepnote_to_be_reexecuted": false,
    "source_hash": "f6465ed8",
    "execution_start": 1649012553026,
    "execution_millis": 54606,
    "is_code_hidden": true,
    "cell_id": "00003-8ba6ea93-0833-48d3-b5b3-751ec71421a1",
    "deepnote_cell_type": "code",
    "deepnote_cell_height": 74.80000305175781
   },
   "source": "if not amqp_url:\n    import os\n    amqp_url = os.environ.get('AMQP_URL')",
   "execution_count": 4,
   "outputs": []
  },
  {
   "cell_type": "code",
   "metadata": {
    "tags": [],
    "deepnote_to_be_reexecuted": false,
    "source_hash": "94d1c4be",
    "execution_start": 1649012553028,
    "execution_millis": 29,
    "cell_id": "00004-f463a11a-5f2d-4054-931f-e6284f90df2f",
    "deepnote_cell_type": "code",
    "deepnote_cell_height": 405
   },
   "source": "from typing import Optional\nfrom pydantic import BaseModel\nimport uuid\n\n\nclass Message(BaseModel):\n    businessKey: str\n    tenant: str\n    command: Optional[str] = None\n    event: Optional[str] = None\n    payload: Optional[str] = None\n\n\nmessage = Message(\n    **{\n        \"businessKey\": str(uuid.uuid1()),\n        \"tenant\": tenant\n    }\n)",
   "execution_count": 5,
   "outputs": []
  },
  {
   "cell_type": "code",
   "metadata": {
    "tags": [],
    "deepnote_to_be_reexecuted": false,
    "source_hash": "f8342e48",
    "execution_start": 1649012553059,
    "execution_millis": 1031,
    "cell_id": "00005-fff109ad-9258-4c94-ae61-72ae9851b506",
    "deepnote_cell_type": "code",
    "deepnote_cell_height": 261
   },
   "source": "import pika\n\nparams = pika.URLParameters(amqp_url)\nconnection = pika.BlockingConnection(params)  # Connect to CloudAMQP\nchannel = connection.channel()  # Start a channel\nchannel.queue_declare(queue=\"order\")  # Declare a queue\nchannel.queue_declare(queue=\"payment\")  # Declare a queue\nchannel.queue_declare(queue=\"inventory\")  # Declare a queue\n\nconnection.close()\n",
   "execution_count": 6,
   "outputs": []
  },
  {
   "cell_type": "code",
   "metadata": {
    "tags": [],
    "deepnote_to_be_reexecuted": false,
    "source_hash": "a9daf20b",
    "execution_start": 1649012554093,
    "execution_millis": 752,
    "output_cleared": false,
    "cell_id": "00006-223d52fb-9d13-4ad2-99d0-8bcfeacd038f",
    "deepnote_cell_type": "code",
    "deepnote_cell_height": 364.20001220703125
   },
   "source": "import pika, pickle\n\nparams = pika.URLParameters(amqp_url)\nconnection = pika.BlockingConnection(params)\nchannel = connection.channel()\n\nmessage.event=\"Order_Placed\"\n\n# Send message\nchannel.basic_publish(\n    exchange='', routing_key=\"order\", body=pickle.dumps(message)\n)\nprint(\"Message sent to consumer\")\nconnection.close()\n",
   "execution_count": 7,
   "outputs": [
    {
     "name": "stdout",
     "text": "Message sent to consumer\n",
     "output_type": "stream"
    }
   ]
  },
  {
   "cell_type": "code",
   "metadata": {
    "tags": [],
    "deepnote_to_be_reexecuted": false,
    "source_hash": "430ef540",
    "execution_start": 1649012554852,
    "execution_millis": 7983,
    "output_cleared": false,
    "cell_id": "00007-855690d6-72cd-4728-86d0-bda14b42ab95",
    "deepnote_cell_type": "code",
    "deepnote_cell_height": 1126.800048828125
   },
   "source": "import pika, pickle, requests, signal, sys\n\nparams = pika.URLParameters(amqp_url)\nconnection = pika.BlockingConnection(params)\nchannel = connection.channel()\n\n# Create functions which are called on incoming messages\ndef payment(channel, method, properties, body):\n    message = pickle.loads(body)\n    print(\"Received \" + str(message))\n    message.event = \"Payment_Done\"\n    channel.basic_publish(\n        exchange='', routing_key=\"payment\", body=pickle.dumps(message)\n    )\n    return\n\n\ndef inventory(channel, method, properties, body):\n    message = pickle.loads(body)\n    print(\"Received \" + str(message))\n    message.event = \"Goods_Fetched\"\n    channel.basic_publish(\n        exchange='', routing_key=\"inventory\", body=pickle.dumps(message)\n    )\n    return\n\n\ndef shipment(channel, method, properties, body):\n    message = pickle.loads(body)\n    print(\"Received \" + str(message))\n    message.event = \"Goods_Shipped\"\n    channel.basic_publish(\n        exchange='', routing_key=\"shipment\", body=pickle.dumps(message)\n    )\n    return\n\n\n# Set up subscription on the queue\nchannel.basic_consume(\"order\", payment, auto_ack=True)\nchannel.basic_consume(\"payment\", inventory, auto_ack=True)\nchannel.basic_consume(\"inventory\", shipment, auto_ack=True)\n\n\ndef close_handler(signal, frame):\n    connection.close()\n\n\n# Start consuming\ntry:\n    signal.signal(signal.SIGINT, close_handler)\n    channel.start_consuming()\nexcept Exception as e:\n    print(e)\n",
   "execution_count": 8,
   "outputs": [
    {
     "name": "stdout",
     "text": "Received businessKey='9e0d439e-b380-11ec-b8de-0ad9bffcddd2' tenant='TEAM10' command=None event='Order_Placed' payload=None\nReceived businessKey='9e0d439e-b380-11ec-b8de-0ad9bffcddd2' tenant='TEAM10' command=None event='Payment_Done' payload=None\nReceived businessKey='9e0d439e-b380-11ec-b8de-0ad9bffcddd2' tenant='TEAM10' command=None event='Goods_Fetched' payload=None\n[Errno 9] Bad file descriptor\n",
     "output_type": "stream"
    }
   ]
  },
  {
   "cell_type": "markdown",
   "source": "<a style='text-decoration:none;line-height:16px;display:flex;color:#5B5B62;padding:10px;justify-content:end;' href='https://deepnote.com?utm_source=created-in-deepnote-cell&projectId=5f4dd5da-1c7b-41a5-9634-cafd01851cb8' target=\"_blank\">\n<img alt='Created in deepnote.com' style='display:inline;max-height:16px;margin:0px;margin-right:7.5px;' src='data:image/svg+xml;base64,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' > </img>\nCreated in <span style='font-weight:600;margin-left:4px;'>Deepnote</span></a>",
   "metadata": {
    "tags": [],
    "created_in_deepnote_cell": true,
    "deepnote_cell_type": "markdown"
   }
  }
 ],
 "nbformat": 4,
 "nbformat_minor": 2,
 "metadata": {
  "orig_nbformat": 2,
  "deepnote": {
   "is_reactive": false
  },
  "deepnote_notebook_id": "e392cfdc-c49d-4fee-9d22-52c0bfac7887",
  "deepnote_execution_queue": []
 }
}