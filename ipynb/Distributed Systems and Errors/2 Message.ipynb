{
 "cells": [
  {
   "cell_type": "code",
   "metadata": {
    "cell_id": "70c5e8874e5b48688d0e9e569da214c7",
    "deepnote_variable_name": "tenant",
    "deepnote_variable_value": "TEAM10",
    "deepnote_to_be_reexecuted": false,
    "source_hash": "6083972c",
    "execution_start": 1649012003664,
    "execution_millis": 18,
    "deepnote_cell_type": "input-text"
   },
   "source": "tenant = 'TEAM10'",
   "execution_count": 1,
   "outputs": []
  },
  {
   "cell_type": "code",
   "metadata": {
    "cell_id": "58e044c24e8c4eb392180170939403c0",
    "deepnote_variable_name": "camunda_eninge_rest",
    "deepnote_variable_value": "https://digibp.herokuapp.com/engine-rest",
    "deepnote_to_be_reexecuted": false,
    "source_hash": "2f31b90",
    "execution_start": 1649012003682,
    "execution_millis": 0,
    "deepnote_cell_type": "input-text"
   },
   "source": "camunda_eninge_rest = 'https://digibp.herokuapp.com/engine-rest'",
   "execution_count": 2,
   "outputs": []
  },
  {
   "cell_type": "code",
   "metadata": {
    "cell_id": "013f3d61dc3e46859673621cbfe77842",
    "deepnote_variable_name": "amqp_url",
    "deepnote_variable_value": "",
    "deepnote_to_be_reexecuted": false,
    "source_hash": "845525ea",
    "execution_start": 1649012003683,
    "execution_millis": 0,
    "deepnote_cell_type": "input-text"
   },
   "source": "amqp_url = ''",
   "execution_count": 3,
   "outputs": []
  },
  {
   "cell_type": "code",
   "metadata": {
    "cell_id": "51f784819c1447f682fda30e324b5b20",
    "tags": [],
    "deepnote_to_be_reexecuted": false,
    "source_hash": "f6465ed8",
    "execution_start": 1649012003684,
    "execution_millis": 0,
    "is_code_hidden": true,
    "deepnote_cell_type": "code",
    "deepnote_cell_height": 74.80000305175781
   },
   "source": "if not amqp_url:\n    import os\n    amqp_url = os.environ.get('AMQP_URL')",
   "execution_count": 4,
   "outputs": []
  },
  {
   "cell_type": "code",
   "metadata": {
    "tags": [],
    "cell_id": "06c15c41-7706-45d2-8f47-2cefae08450e",
    "deepnote_to_be_reexecuted": false,
    "source_hash": "94d1c4be",
    "execution_start": 1649012003692,
    "execution_millis": 46,
    "deepnote_cell_type": "code",
    "deepnote_cell_height": 405
   },
   "source": "from typing import Optional\nfrom pydantic import BaseModel\nimport uuid\n\n\nclass Message(BaseModel):\n    businessKey: str\n    tenant: str\n    command: Optional[str] = None\n    event: Optional[str] = None\n    payload: Optional[str] = None\n\n\nmessage = Message(\n    **{\n        \"businessKey\": str(uuid.uuid1()),\n        \"tenant\": tenant\n    }\n)",
   "execution_count": 5,
   "outputs": []
  },
  {
   "cell_type": "code",
   "metadata": {
    "cell_id": "049728cffb9e4208a8ed722cd6718d8a",
    "tags": [],
    "deepnote_to_be_reexecuted": false,
    "source_hash": "d07d0a59",
    "execution_start": 1649012003738,
    "execution_millis": 1759,
    "deepnote_cell_type": "code",
    "deepnote_cell_height": 711
   },
   "source": "import pika\n\nparams = pika.URLParameters(amqp_url)\nconnection = pika.BlockingConnection(params)  # Connect to CloudAMQP\nchannel = connection.channel()  # Start a channel\nchannel.queue_declare(queue=\"order\")  # Declare a queue\nchannel.queue_declare(queue=\"payment\")  # Declare a queue\nchannel.queue_declare(queue=\"inventory\")  # Declare a queue\nchannel.queue_declare(queue=\"order_fulfillment\") # Declare a queue\n\nchannel.exchange_declare(exchange=tenant)\n\nchannel.queue_bind(\n    exchange=tenant, queue=\"order\", routing_key=\"order\"\n)\nchannel.queue_bind(\n    exchange=tenant, queue=\"payment\", routing_key=\"payment\"\n)\nchannel.queue_bind(\n    exchange=tenant, queue=\"inventory\", routing_key=\"inventory\"\n)\nchannel.queue_bind(\n    exchange=tenant, queue=\"order_fulfillment\", routing_key=\"order\"\n)\nchannel.queue_bind(\n    exchange=tenant, queue=\"order_fulfillment\", routing_key=\"payment\"\n)\nchannel.queue_bind(\n    exchange=tenant, queue=\"order_fulfillment\", routing_key=\"inventory\"\n)\nchannel.queue_bind(\n    exchange=tenant, queue=\"order_fulfillment\", routing_key=\"shipment\"\n)\n\nconnection.close()\n",
   "execution_count": 6,
   "outputs": []
  },
  {
   "cell_type": "code",
   "metadata": {
    "cell_id": "dca17cb53cf54dccb564fc4ea8715118",
    "tags": [],
    "deepnote_to_be_reexecuted": false,
    "source_hash": "f09c4f91",
    "execution_start": 1649012005498,
    "execution_millis": 736,
    "output_cleared": true,
    "deepnote_cell_type": "code",
    "deepnote_cell_height": 364.20001220703125
   },
   "source": "import pika, pickle\n\nparams = pika.URLParameters(amqp_url)\nconnection = pika.BlockingConnection(params)\nchannel = connection.channel()\n\nmessage.event=\"Order_Placed\"\n\n# Send message\nchannel.basic_publish(\n    exchange=tenant, routing_key=\"order\", body=pickle.dumps(message)\n)\nprint(\"Message sent to consumer\")\nconnection.close()\n",
   "execution_count": 7,
   "outputs": []
  },
  {
   "cell_type": "code",
   "metadata": {
    "cell_id": "8695a13ad4be4662bee731325e74016e",
    "tags": [],
    "deepnote_to_be_reexecuted": false,
    "source_hash": "9f1fe116",
    "execution_start": 1649012006240,
    "execution_millis": 5017,
    "output_cleared": true,
    "deepnote_cell_type": "code",
    "deepnote_cell_height": 1287,
    "deepnote_output_heights": [
     null,
     611
    ]
   },
   "source": "import pika, pickle, requests, signal, sys\n\nparams = pika.URLParameters(amqp_url)\nconnection = pika.BlockingConnection(params)\nchannel = connection.channel()\n\n# Create functions which are called on incoming messages\ndef order_fulfillment(channel, method, properties, body):\n    message = pickle.loads(body)\n    print(\"Received \" + str(message))\n    request_data = {\n        \"messageName\": message.event,\n        \"businessKey\": message.businessKey,\n        \"tenantId\": message.tenant,\n    }\n\n    response = requests.post(camunda_eninge_rest + \"/message\", json=request_data)\n    return\n\n\ndef payment(channel, method, properties, body):\n    message = pickle.loads(body)\n    print(\"Received \" + str(message))\n    message.event = \"Payment_Done\"\n    channel.basic_publish(\n        exchange=tenant, routing_key=\"payment\", body=pickle.dumps(message)\n    )\n    return\n\n\ndef inventory(channel, method, properties, body):\n    message = pickle.loads(body)\n    print(\"Received \" + str(message))\n    message.event = \"Goods_Fetched\"\n    channel.basic_publish(\n        exchange=tenant, routing_key=\"inventory\", body=pickle.dumps(message)\n    )\n    return\n\n\ndef shipment(channel, method, properties, body):\n    message = pickle.loads(body)\n    print(\"Received \" + str(message))\n    message.event = \"Goods_Shipped\"\n    channel.basic_publish(\n        exchange=tenant, routing_key=\"shipment\", body=pickle.dumps(message)\n    )\n    return\n\n\n# Set up subscription on the queue\nchannel.basic_consume(\"order_fulfillment\", order_fulfillment, auto_ack=True)\nchannel.basic_consume(\"order\", payment, auto_ack=True)\nchannel.basic_consume(\"payment\", inventory, auto_ack=True)\nchannel.basic_consume(\"inventory\", shipment, auto_ack=True)\n\n\ndef close_handler(signal, frame):\n    connection.close()\n\n\n# Start consuming\ntry:\n    signal.signal(signal.SIGINT, close_handler)\n    channel.start_consuming()\nexcept Exception as e:\n    print(e)\n",
   "execution_count": 8,
   "outputs": []
  },
  {
   "cell_type": "markdown",
   "source": "<a style='text-decoration:none;line-height:16px;display:flex;color:#5B5B62;padding:10px;justify-content:end;' href='https://deepnote.com?utm_source=created-in-deepnote-cell&projectId=5f4dd5da-1c7b-41a5-9634-cafd01851cb8' target=\"_blank\">\n<img alt='Created in deepnote.com' style='display:inline;max-height:16px;margin:0px;margin-right:7.5px;' src='data:image/svg+xml;base64,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' > </img>\nCreated in <span style='font-weight:600;margin-left:4px;'>Deepnote</span></a>",
   "metadata": {
    "tags": [],
    "created_in_deepnote_cell": true,
    "deepnote_cell_type": "markdown"
   }
  }
 ],
 "nbformat": 4,
 "nbformat_minor": 2,
 "metadata": {
  "orig_nbformat": 2,
  "deepnote": {
   "is_reactive": false
  },
  "deepnote_notebook_id": "0d6370e8-8fde-42bb-82d5-1ea272d875d4",
  "deepnote_execution_queue": []
 }
}