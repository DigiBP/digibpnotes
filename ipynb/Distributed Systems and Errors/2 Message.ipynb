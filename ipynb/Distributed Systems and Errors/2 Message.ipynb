{
 "cells": [
  {
   "cell_type": "markdown",
   "source": "# Message Style",
   "metadata": {
    "cell_id": "f0cab73640b44804b99190032d594738",
    "tags": [],
    "is_collapsed": false,
    "deepnote_cell_type": "text-cell-h1"
   }
  },
  {
   "cell_type": "markdown",
   "source": "*Characteristics:*\n- Collaboration Style: **Events = Choreography**\n- System Style: **Reactive**\n- Communication Style: **Asynchronous (Non-Blocking)**\n- Flow: **-**",
   "metadata": {
    "cell_id": "f352eb39461645e5a9520a4288898cff",
    "tags": [],
    "deepnote_cell_type": "markdown",
    "deepnote_cell_height": 181
   }
  },
  {
   "cell_type": "markdown",
   "source": "## Process / Scenario",
   "metadata": {
    "cell_id": "930f695816d041d4a8ac8ccb9cc20a90",
    "tags": [],
    "is_collapsed": false,
    "deepnote_cell_type": "text-cell-h2"
   }
  },
  {
   "cell_type": "markdown",
   "source": "The following \"Order Fulfilment\" process model depicts the choreography happening among the three microservices defined below.\n\n![](/images/Choreography.png)\n\n### Tasks\nInstruction to run/do the exercise:\n1. You may register on [CloudAMQP for a free RabbitMQ](https://www.cloudamqp.com) instance (optional).\n2. Add the AMQP URL of your own RabbitMQ instance or a provided one to the follwoing textbox:",
   "metadata": {
    "cell_id": "f72357a3cc384bb68ec0e8d20b514de8",
    "tags": [],
    "deepnote_cell_type": "markdown",
    "deepnote_cell_height": 830.183349609375
   }
  },
  {
   "cell_type": "code",
   "metadata": {
    "deepnote_variable_name": "amqp_url",
    "deepnote_variable_value": "",
    "deepnote_to_be_reexecuted": false,
    "source_hash": "845525ea",
    "execution_start": 1649012553025,
    "execution_millis": 54608,
    "cell_id": "00002-7596e2bc-dbcf-4258-a28c-7e34b1654b68",
    "output_cleared": true,
    "deepnote_cell_type": "input-text"
   },
   "source": "amqp_url = ''",
   "execution_count": null,
   "outputs": []
  },
  {
   "cell_type": "markdown",
   "source": "3. Make sure that you run the notebook with the right tenant:",
   "metadata": {
    "cell_id": "16f12514efcb447aab85e24e5b87baa5",
    "tags": [],
    "deepnote_cell_type": "markdown",
    "deepnote_cell_height": 69.39999389648438
   }
  },
  {
   "cell_type": "code",
   "metadata": {
    "deepnote_variable_name": "tenant",
    "deepnote_variable_value": "TEAM10",
    "deepnote_to_be_reexecuted": false,
    "source_hash": "6083972c",
    "execution_start": 1649012553023,
    "execution_millis": 54593,
    "cell_id": "abfb23b1-57fe-47fc-a6a8-72672142ed4b",
    "output_cleared": true,
    "deepnote_cell_type": "input-text"
   },
   "source": "tenant = 'TEAM10'",
   "execution_count": null,
   "outputs": []
  },
  {
   "cell_type": "markdown",
   "source": "4. Run the notebook in Deepnote.\n5. Inspect the Deepnote output.",
   "metadata": {
    "cell_id": "1f179bcad29341d189b4ef9ae4aee003",
    "tags": [],
    "deepnote_cell_type": "markdown",
    "deepnote_cell_height": 94.80000305175781
   }
  },
  {
   "cell_type": "code",
   "metadata": {
    "tags": [],
    "deepnote_to_be_reexecuted": false,
    "source_hash": "f6465ed8",
    "execution_start": 1649012553026,
    "execution_millis": 54606,
    "is_code_hidden": true,
    "cell_id": "00003-8ba6ea93-0833-48d3-b5b3-751ec71421a1",
    "output_cleared": true,
    "deepnote_cell_type": "code",
    "deepnote_cell_height": 74.80000305175781
   },
   "source": "if not amqp_url:\n    import os\n    amqp_url = os.environ.get('AMQP_URL')",
   "execution_count": null,
   "outputs": []
  },
  {
   "cell_type": "markdown",
   "source": "## Message Model",
   "metadata": {
    "cell_id": "b03ec11109e3491ca846cd8b13b0521d",
    "tags": [],
    "is_collapsed": false,
    "deepnote_cell_type": "text-cell-h2"
   }
  },
  {
   "cell_type": "markdown",
   "source": "Below you will find the message model that is used for the message exchange, including `businessKey` generation using a UUID and `tenant` configuration:",
   "metadata": {
    "cell_id": "e29e2c525ba7439e8d54761f94652924",
    "tags": [],
    "deepnote_cell_type": "markdown",
    "deepnote_cell_height": 52.399993896484375
   }
  },
  {
   "cell_type": "code",
   "metadata": {
    "tags": [],
    "deepnote_to_be_reexecuted": false,
    "source_hash": "94d1c4be",
    "execution_start": 1649012553028,
    "execution_millis": 29,
    "cell_id": "00004-f463a11a-5f2d-4054-931f-e6284f90df2f",
    "output_cleared": true,
    "deepnote_cell_type": "code",
    "deepnote_cell_height": 405
   },
   "source": "from typing import Optional\nfrom pydantic import BaseModel\nimport uuid\n\n\nclass Message(BaseModel):\n    businessKey: str\n    tenant: str\n    command: Optional[str] = None\n    event: Optional[str] = None\n    payload: Optional[str] = None\n\n\nmessage = Message(\n    **{\n        \"businessKey\": str(uuid.uuid1()),\n        \"tenant\": tenant\n    }\n)",
   "execution_count": null,
   "outputs": []
  },
  {
   "cell_type": "markdown",
   "source": "## Message Queues",
   "metadata": {
    "cell_id": "9c95ad73422647e6ae4b8ff35a4d88d7",
    "tags": [],
    "is_collapsed": false,
    "deepnote_cell_type": "text-cell-h2"
   }
  },
  {
   "cell_type": "markdown",
   "source": "In the following, the [Pika](https://pika.readthedocs.io) library providing AMQP protocol in Python is used to connect to RabbitMQ and declare three queues `order`, `payment`, and `inventory`:",
   "metadata": {
    "cell_id": "05f1a348bf6a43b2bf54064f07cfdfd6",
    "tags": [],
    "deepnote_cell_type": "markdown",
    "deepnote_cell_height": 52.399993896484375
   }
  },
  {
   "cell_type": "code",
   "metadata": {
    "tags": [],
    "deepnote_to_be_reexecuted": false,
    "source_hash": "f8342e48",
    "execution_start": 1649012553059,
    "execution_millis": 1031,
    "cell_id": "00005-fff109ad-9258-4c94-ae61-72ae9851b506",
    "output_cleared": true,
    "deepnote_cell_type": "code",
    "deepnote_cell_height": 333
   },
   "source": "import pika\n\nparams = pika.URLParameters(amqp_url)\n# Connect to RabbitMQ\nconnection = pika.BlockingConnection(params)\nchannel = connection.channel()\n# Declare order queue\nchannel.queue_declare(queue=\"order\")\n# Declare payment queue\nchannel.queue_declare(queue=\"payment\")\n# Declare inventory queue\nchannel.queue_declare(queue=\"inventory\")\n\nconnection.close()\n",
   "execution_count": null,
   "outputs": []
  },
  {
   "cell_type": "markdown",
   "source": "## Initial Event",
   "metadata": {
    "cell_id": "0218d7df573347928461d4d09869395d",
    "tags": [],
    "is_collapsed": false,
    "deepnote_cell_type": "text-cell-h2"
   }
  },
  {
   "cell_type": "markdown",
   "source": "In the following, an initial event `Order_Placed` is published to mimic a checkout and initialize the choreography:",
   "metadata": {
    "cell_id": "b59a526c16334f47ac1c5970a0ac85cb",
    "tags": [],
    "deepnote_cell_type": "markdown",
    "deepnote_cell_height": 52.399993896484375
   }
  },
  {
   "cell_type": "code",
   "metadata": {
    "tags": [],
    "deepnote_to_be_reexecuted": false,
    "source_hash": "a9daf20b",
    "execution_start": 1649012554093,
    "execution_millis": 752,
    "output_cleared": true,
    "cell_id": "00006-223d52fb-9d13-4ad2-99d0-8bcfeacd038f",
    "deepnote_cell_type": "code",
    "deepnote_cell_height": 297
   },
   "source": "import pika, pickle\n\nparams = pika.URLParameters(amqp_url)\nconnection = pika.BlockingConnection(params)\nchannel = connection.channel()\n\n# Define and publish (send) the Order_Placed event\nmessage.event = \"Order_Placed\"\nchannel.basic_publish(exchange=\"\", routing_key=\"order\", body=pickle.dumps(message))\nprint(\"Order_Placed message sent.\")\n\nconnection.close()\n",
   "execution_count": null,
   "outputs": []
  },
  {
   "cell_type": "markdown",
   "source": "## Message Subscription of Microservices",
   "metadata": {
    "cell_id": "63573f06d43a4254a27f5583d30724db",
    "tags": [],
    "is_collapsed": false,
    "deepnote_cell_type": "text-cell-h2"
   }
  },
  {
   "cell_type": "markdown",
   "source": "In the following, three microservices are imitated, each of which has a subscription of one queue. After a message is received, a subsequent event is queued again.",
   "metadata": {
    "cell_id": "fbac90c300404541a9ff17472cd8596f",
    "tags": [],
    "deepnote_cell_type": "markdown",
    "deepnote_cell_height": 52.399993896484375
   }
  },
  {
   "cell_type": "code",
   "metadata": {
    "tags": [],
    "deepnote_to_be_reexecuted": false,
    "source_hash": "430ef540",
    "execution_start": 1649012554852,
    "execution_millis": 7983,
    "output_cleared": true,
    "cell_id": "00007-855690d6-72cd-4728-86d0-bda14b42ab95",
    "deepnote_cell_type": "code",
    "deepnote_cell_height": 1071
   },
   "source": "import pika, pickle, signal\n\nparams = pika.URLParameters(amqp_url)\nconnection = pika.BlockingConnection(params)\nchannel = connection.channel()\n\n# Payment microservice callback function\ndef payment(channel, method, properties, body):\n    message = pickle.loads(body)\n    print(\"Received \" + str(message))\n    message.event = \"Payment_Done\"\n    channel.basic_publish(\n        exchange=\"\", routing_key=\"payment\", body=pickle.dumps(message)\n    )\n    return\n\n\n# Inventory microservice callback function\ndef inventory(channel, method, properties, body):\n    message = pickle.loads(body)\n    print(\"Received \" + str(message))\n    message.event = \"Goods_Fetched\"\n    channel.basic_publish(\n        exchange=\"\", routing_key=\"inventory\", body=pickle.dumps(message)\n    )\n    return\n\n\n# Shipment microservice callback function\ndef shipment(channel, method, properties, body):\n    message = pickle.loads(body)\n    print(\"Received \" + str(message))\n    message.event = \"Goods_Shipped\"\n    channel.basic_publish(\n        exchange=\"\", routing_key=\"shipment\", body=pickle.dumps(message)\n    )\n    return\n\n\n# Subscriptions on queues\nchannel.basic_consume(\"order\", payment, auto_ack=True)\nchannel.basic_consume(\"payment\", inventory, auto_ack=True)\nchannel.basic_consume(\"inventory\", shipment, auto_ack=True)\n\n\ndef close_handler(signal, frame):\n    connection.close()\n\n\n# Run consuming server\ntry:\n    signal.signal(signal.SIGINT, close_handler)\n    channel.start_consuming()\nexcept Exception as e:\n    print(e)\n",
   "execution_count": null,
   "outputs": []
  },
  {
   "cell_type": "markdown",
   "source": "<a style='text-decoration:none;line-height:16px;display:flex;color:#5B5B62;padding:10px;justify-content:end;' href='https://deepnote.com?utm_source=created-in-deepnote-cell&projectId=5f4dd5da-1c7b-41a5-9634-cafd01851cb8' target=\"_blank\">\n<img alt='Created in deepnote.com' style='display:inline;max-height:16px;margin:0px;margin-right:7.5px;' src='data:image/svg+xml;base64,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' > </img>\nCreated in <span style='font-weight:600;margin-left:4px;'>Deepnote</span></a>",
   "metadata": {
    "tags": [],
    "created_in_deepnote_cell": true,
    "deepnote_cell_type": "markdown"
   }
  }
 ],
 "nbformat": 4,
 "nbformat_minor": 2,
 "metadata": {
  "orig_nbformat": 2,
  "deepnote": {
   "is_reactive": false
  },
  "deepnote_notebook_id": "e392cfdc-c49d-4fee-9d22-52c0bfac7887",
  "deepnote_execution_queue": []
 }
}