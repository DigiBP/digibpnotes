{
 "cells": [
  {
   "cell_type": "markdown",
   "source": "# Pub/Sub Style",
   "metadata": {
    "cell_id": "b27dbaab4fa140fb946945b79b86bcae",
    "tags": [],
    "is_collapsed": false,
    "deepnote_cell_type": "text-cell-h1"
   }
  },
  {
   "cell_type": "markdown",
   "source": "*Characteristics:*\n- Collaboration Style: **Commands = Orchestration**\n- System Style: **Reactive**\n- Communication Style: **Synchronous (Blocking)**\n- Flow: **Managed**",
   "metadata": {
    "cell_id": "33bd37b9f88b4001a9a38fa73494d626",
    "tags": [],
    "deepnote_cell_type": "markdown",
    "deepnote_cell_height": 181
   }
  },
  {
   "cell_type": "markdown",
   "source": "## Process / Scenario",
   "metadata": {
    "cell_id": "8d68d2bdfa9b4f7e85ad86b3007e2a59",
    "tags": [],
    "is_collapsed": false,
    "deepnote_cell_type": "text-cell-h2"
   }
  },
  {
   "cell_type": "markdown",
   "source": "The following \"Order Fulfilment\" process model orchestrates three microservices which are defined below. In contrast to a declarative setting (e.g., REST), in this **reactive** setting the coupling lies on the **receiving** side as the three microservices **subscribe** for a **command topic**.\n\n![](/images/Pub-Sub.png)\n\n### Tasks\nInstruction to run/do the exercise:\n1. Download the process model ([download BPMN model - here](https://cdn.jsdelivr.net/gh/DigiBP/digibpnotes@main/modelling/Distributed%20Systems%20and%20Errors/Pub-Sub.bpmn)) and open it in the Camunda Modeler.\n2. Deploy the process model with the Camunda Modeler to the classroom instance with your **tenant**.\n3. Make sure that you have the correct Camunda engine URL:",
   "metadata": {
    "cell_id": "42cc775e36364739807bc6ec0d50e51e",
    "tags": [],
    "deepnote_cell_type": "markdown",
    "deepnote_cell_height": 702.5
   }
  },
  {
   "cell_type": "code",
   "metadata": {
    "deepnote_variable_name": "camunda_eninge_rest",
    "deepnote_variable_value": "https://digibp.herokuapp.com/engine-rest",
    "deepnote_to_be_reexecuted": false,
    "source_hash": "2f31b90",
    "execution_start": 1648998458432,
    "execution_millis": 1,
    "cell_id": "00001-ab2f5036-834f-40e8-8d20-7edae8009ffe",
    "deepnote_cell_type": "input-text"
   },
   "source": "camunda_eninge_rest = 'https://digibp.herokuapp.com/engine-rest'",
   "execution_count": null,
   "outputs": []
  },
  {
   "cell_type": "markdown",
   "source": "4. Run the process model from the the Camunda Modeler.\n5. Make sure that you use the right tenant:",
   "metadata": {
    "cell_id": "d5390e90d7a14995a5cffa147492b168",
    "tags": [],
    "deepnote_cell_type": "markdown",
    "deepnote_cell_height": 94.80000305175781
   }
  },
  {
   "cell_type": "code",
   "metadata": {
    "deepnote_variable_name": "tenant",
    "deepnote_variable_value": "TEAM10",
    "deepnote_to_be_reexecuted": false,
    "source_hash": "6083972c",
    "execution_start": 1648998458432,
    "execution_millis": 0,
    "cell_id": "4a92ab76-6e3a-4423-b5a7-64f77332e510",
    "deepnote_cell_type": "input-text"
   },
   "source": "tenant = 'TEAM10'",
   "execution_count": null,
   "outputs": []
  },
  {
   "cell_type": "markdown",
   "source": "6. Run the notebook in Deepnote.\n7. Investigate the process instantiated in the Camunda Cockpit and inspect the Deepnote output.",
   "metadata": {
    "cell_id": "7c250bfe4ffb43158e4cd79a3485e19c",
    "tags": [],
    "deepnote_cell_type": "markdown",
    "deepnote_cell_height": 94.80000305175781
   }
  },
  {
   "cell_type": "markdown",
   "source": "## Topic Subscription of Microservices",
   "metadata": {
    "cell_id": "be1a5e31bb40437f9ddfc5c16fac22c7",
    "tags": [],
    "is_collapsed": false,
    "deepnote_cell_type": "text-cell-h2"
   }
  },
  {
   "cell_type": "markdown",
   "source": "In the following, three microservices are imitated, each of which has a subscription of a topic command to be received. After a message is received, the task is completed. Here, a [custom-developed Camunda client worker implementation in Python](https://github.com/DigiBP/digibp-camunda-external-python-task/blob/master/cam.py) is used, which encapsulates the [external client REST API](https://docs.camunda.org/manual/latest/reference/rest/external-task/) of Camunda.",
   "metadata": {
    "cell_id": "0e33300bebee452bbd78d87318654a15",
    "tags": [],
    "deepnote_cell_type": "markdown",
    "deepnote_cell_height": 74.80000305175781
   }
  },
  {
   "cell_type": "code",
   "metadata": {
    "cell_id": "f1fdb4464d114a069c76a11964600374",
    "tags": [],
    "deepnote_to_be_reexecuted": false,
    "source_hash": "5aa21488",
    "execution_start": 1648998458433,
    "execution_millis": 7902,
    "output_cleared": true,
    "deepnote_cell_type": "code",
    "deepnote_cell_height": 675
   },
   "source": "import httpimport\n\nwith httpimport.github_repo(\"DigiBP\", \"digibp-camunda-external-python-task\", \"cam\"):\n    import cam\n\n# Initialize worker client\nworker = cam.Client(camunda_eninge_rest)\n\n# Payment microservice callback function\ndef retrievePayment(taskid, response):\n    print(\"Payment Done\")\n    worker.complete(taskid)\n\n\n# Inventory microservice callback function\ndef fetchGoods(taskid, response):\n    print(\"Goods Fetched\")\n    worker.complete(taskid)\n\n\n# Shipment microservice callback function\ndef shipGoods(taskid, response):\n    print(\"Goods Shipped\")\n    worker.complete(taskid)\n\n\n# Subscriptions on topics\nworker.subscribe(\"retrievePayment\", retrievePayment, tenant)\nworker.subscribe(\"fetchGoods\", fetchGoods, tenant)\nworker.subscribe(\"shipGoods\", shipGoods, tenant)\n\n# Run polling server\nworker.polling()\n",
   "execution_count": null,
   "outputs": []
  },
  {
   "cell_type": "markdown",
   "source": "<a style='text-decoration:none;line-height:16px;display:flex;color:#5B5B62;padding:10px;justify-content:end;' href='https://deepnote.com?utm_source=created-in-deepnote-cell&projectId=5f4dd5da-1c7b-41a5-9634-cafd01851cb8' target=\"_blank\">\n<img alt='Created in deepnote.com' style='display:inline;max-height:16px;margin:0px;margin-right:7.5px;' src='data:image/svg+xml;base64,PD94bWwgdmVyc2lvbj0iMS4wIiBlbmNvZGluZz0iVVRGLTgiPz4KPHN2ZyB3aWR0aD0iODBweCIgaGVpZ2h0PSI4MHB4IiB2aWV3Qm94PSIwIDAgODAgODAiIHZlcnNpb249IjEuMSIgeG1sbnM9Imh0dHA6Ly93d3cudzMub3JnLzIwMDAvc3ZnIiB4bWxuczp4bGluaz0iaHR0cDovL3d3dy53My5vcmcvMTk5OS94bGluayI+CiAgICA8IS0tIEdlbmVyYXRvcjogU2tldGNoIDU0LjEgKDc2NDkwKSAtIGh0dHBzOi8vc2tldGNoYXBwLmNvbSAtLT4KICAgIDx0aXRsZT5Hcm91cCAzPC90aXRsZT4KICAgIDxkZXNjPkNyZWF0ZWQgd2l0aCBTa2V0Y2guPC9kZXNjPgogICAgPGcgaWQ9IkxhbmRpbmciIHN0cm9rZT0ibm9uZSIgc3Ryb2tlLXdpZHRoPSIxIiBmaWxsPSJub25lIiBmaWxsLXJ1bGU9ImV2ZW5vZGQiPgogICAgICAgIDxnIGlkPSJBcnRib2FyZCIgdHJhbnNmb3JtPSJ0cmFuc2xhdGUoLTEyMzUuMDAwMDAwLCAtNzkuMDAwMDAwKSI+CiAgICAgICAgICAgIDxnIGlkPSJHcm91cC0zIiB0cmFuc2Zvcm09InRyYW5zbGF0ZSgxMjM1LjAwMDAwMCwgNzkuMDAwMDAwKSI+CiAgICAgICAgICAgICAgICA8cG9seWdvbiBpZD0iUGF0aC0yMCIgZmlsbD0iIzAyNjVCNCIgcG9pbnRzPSIyLjM3NjIzNzYyIDgwIDM4LjA0NzY2NjcgODAgNTcuODIxNzgyMiA3My44MDU3NTkyIDU3LjgyMTc4MjIgMzIuNzU5MjczOSAzOS4xNDAyMjc4IDMxLjY4MzE2ODMiPjwvcG9seWdvbj4KICAgICAgICAgICAgICAgIDxwYXRoIGQ9Ik0zNS4wMDc3MTgsODAgQzQyLjkwNjIwMDcsNzYuNDU0OTM1OCA0Ny41NjQ5MTY3LDcxLjU0MjI2NzEgNDguOTgzODY2LDY1LjI2MTk5MzkgQzUxLjExMjI4OTksNTUuODQxNTg0MiA0MS42NzcxNzk1LDQ5LjIxMjIyODQgMjUuNjIzOTg0Niw0OS4yMTIyMjg0IEMyNS40ODQ5Mjg5LDQ5LjEyNjg0NDggMjkuODI2MTI5Niw0My4yODM4MjQ4IDM4LjY0NzU4NjksMzEuNjgzMTY4MyBMNzIuODcxMjg3MSwzMi41NTQ0MjUgTDY1LjI4MDk3Myw2Ny42NzYzNDIxIEw1MS4xMTIyODk5LDc3LjM3NjE0NCBMMzUuMDA3NzE4LDgwIFoiIGlkPSJQYXRoLTIyIiBmaWxsPSIjMDAyODY4Ij48L3BhdGg+CiAgICAgICAgICAgICAgICA8cGF0aCBkPSJNMCwzNy43MzA0NDA1IEwyNy4xMTQ1MzcsMC4yNTcxMTE0MzYgQzYyLjM3MTUxMjMsLTEuOTkwNzE3MDEgODAsMTAuNTAwMzkyNyA4MCwzNy43MzA0NDA1IEM4MCw2NC45NjA0ODgyIDY0Ljc3NjUwMzgsNzkuMDUwMzQxNCAzNC4zMjk1MTEzLDgwIEM0Ny4wNTUzNDg5LDc3LjU2NzA4MDggNTMuNDE4MjY3Nyw3MC4zMTM2MTAzIDUzLjQxODI2NzcsNTguMjM5NTg4NSBDNTMuNDE4MjY3Nyw0MC4xMjg1NTU3IDM2LjMwMzk1NDQsMzcuNzMwNDQwNSAyNS4yMjc0MTcsMzcuNzMwNDQwNSBDMTcuODQzMDU4NiwzNy43MzA0NDA1IDkuNDMzOTE5NjYsMzcuNzMwNDQwNSAwLDM3LjczMDQ0MDUgWiIgaWQ9IlBhdGgtMTkiIGZpbGw9IiMzNzkzRUYiPjwvcGF0aD4KICAgICAgICAgICAgPC9nPgogICAgICAgIDwvZz4KICAgIDwvZz4KPC9zdmc+' > </img>\nCreated in <span style='font-weight:600;margin-left:4px;'>Deepnote</span></a>",
   "metadata": {
    "tags": [],
    "created_in_deepnote_cell": true,
    "deepnote_cell_type": "markdown"
   }
  }
 ],
 "nbformat": 4,
 "nbformat_minor": 2,
 "metadata": {
  "orig_nbformat": 2,
  "deepnote": {
   "is_reactive": false
  },
  "deepnote_notebook_id": "511266a8-1cbf-4a97-a72b-89713e2420fd",
  "deepnote_execution_queue": []
 }
}