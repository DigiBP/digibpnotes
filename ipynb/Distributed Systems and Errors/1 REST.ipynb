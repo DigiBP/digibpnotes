{
 "cells": [
  {
   "cell_type": "code",
   "metadata": {
    "tags": [],
    "deepnote_to_be_reexecuted": false,
    "source_hash": "6075bbff",
    "execution_start": 1648995963161,
    "execution_millis": 42,
    "cell_id": "00003-e7a517cd-8f91-4a18-a19a-776ccc7d4168",
    "deepnote_cell_type": "code",
    "deepnote_cell_height": 279
   },
   "source": "from typing import Optional\nfrom pydantic import BaseModel\nimport uuid\n\n\nclass Message(BaseModel):\n    businessKey: str\n    tenant: str\n    command: Optional[str] = None\n    event: Optional[str] = None\n    payload: Optional[str] = None\n",
   "execution_count": null,
   "outputs": []
  },
  {
   "cell_type": "code",
   "metadata": {
    "cell_id": "4a11ae406d0d474183685fbc562bb5d1",
    "tags": [],
    "deepnote_to_be_reexecuted": false,
    "source_hash": "2ba85e1d",
    "execution_start": 1648995963203,
    "execution_millis": 490072,
    "deepnote_cell_type": "code",
    "deepnote_cell_height": 1004.4000244140625
   },
   "source": "from fastapi import FastAPI\n\nimport nest_asyncio\nimport uvicorn\n\napp = FastAPI()\n\n\n@app.put(\"/retrieve_payment/\")\nasync def retrieve_payment(message: Message):\n    message.event = \"Payment_Done\"\n    print(\"EVENT:    \" + message.event)\n    return message\n\n\n@app.put(\"/fetch_goods/\")\nasync def fetch_goods(message: Message):\n    message.event = \"Goods_Fetched\"\n    print(\"EVENT:    \" + message.event)\n    return message\n\n\n@app.put(\"/ship_goods/\")\nasync def ship_goods(message: Message):\n    message.event = \"Goods_Shipped\"\n    print(\"EVENT:    \" + message.event)\n    return message\n\n\nnest_asyncio.apply()\nuvicorn.run(app, host=\"0.0.0.0\", port=8080)\n",
   "execution_count": null,
   "outputs": [
    {
     "name": "stderr",
     "text": "INFO:     Started server process [5987]\nINFO:     Waiting for application startup.\nINFO:     Application startup complete.\nINFO:     Uvicorn running on http://0.0.0.0:8080 (Press CTRL+C to quit)\nINFO:     172.3.167.43:41642 - \"PUT / HTTP/1.1\" 404 Not Found\nINFO:     172.3.161.55:44124 - \"PUT /retrieve_payment/ HTTP/1.1\" 422 Unprocessable Entity\nINFO:     172.3.167.43:45222 - \"PUT /retrieve_payment/ HTTP/1.1\" 422 Unprocessable Entity\nINFO:     172.3.167.43:50196 - \"GET /retrieve_payment/ HTTP/1.1\" 405 Method Not Allowed\nEVENT:    Payment_Done\nINFO:     172.3.161.55:55054 - \"PUT /retrieve_payment/ HTTP/1.1\" 200 OK\nEVENT:    Payment_Done\nINFO:     172.3.167.43:55462 - \"PUT /retrieve_payment/ HTTP/1.1\" 200 OK\nEVENT:    Payment_Done\nINFO:     172.3.188.123:38316 - \"PUT /retrieve_payment/ HTTP/1.1\" 200 OK\nEVENT:    Goods_Fetched\nINFO:     172.3.167.43:32850 - \"PUT /fetch_goods/ HTTP/1.1\" 200 OK\nEVENT:    Goods_Shipped\nINFO:     172.3.161.55:34060 - \"PUT /ship_goods/ HTTP/1.1\" 200 OK\nINFO:     Shutting down\nINFO:     Waiting for application shutdown.\nINFO:     Application shutdown complete.\nINFO:     Finished server process [5987]\n",
     "output_type": "stream"
    }
   ]
  },
  {
   "cell_type": "markdown",
   "source": "<a style='text-decoration:none;line-height:16px;display:flex;color:#5B5B62;padding:10px;justify-content:end;' href='https://deepnote.com?utm_source=created-in-deepnote-cell&projectId=e789056e-64a4-4a7a-8a84-b1e18aa1b20f' target=\"_blank\">\n<img alt='Created in deepnote.com' style='display:inline;max-height:16px;margin:0px;margin-right:7.5px;' src='data:image/svg+xml;base64,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' > </img>\nCreated in <span style='font-weight:600;margin-left:4px;'>Deepnote</span></a>",
   "metadata": {
    "tags": [],
    "created_in_deepnote_cell": true,
    "deepnote_cell_type": "markdown"
   }
  }
 ],
 "nbformat": 4,
 "nbformat_minor": 2,
 "metadata": {
  "orig_nbformat": 2,
  "deepnote": {
   "is_reactive": false
  },
  "deepnote_notebook_id": "eb2db050-4a3b-4caa-9955-f7397ff84c5b",
  "deepnote_execution_queue": []
 }
}