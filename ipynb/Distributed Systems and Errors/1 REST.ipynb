{
 "cells": [
  {
   "cell_type": "markdown",
   "source": "# REST Style",
   "metadata": {
    "formattedRanges": [],
    "cell_id": "51b63650c4b445c88f50b229cc9bd14e",
    "tags": [],
    "is_collapsed": false,
    "deepnote_cell_type": "text-cell-h1"
   }
  },
  {
   "cell_type": "markdown",
   "source": "*Characteristics:*\n- Collaboration Style: **Commands = Orchestration**\n- System Style: **Declarative**\n- Communication Style: **Synchronous (Blocking)**\n- Flow: **Managed**",
   "metadata": {
    "cell_id": "46ebe27fff6d4da2bca07d3d4123a968",
    "tags": [],
    "deepnote_cell_type": "markdown",
    "deepnote_cell_height": 181
   }
  },
  {
   "cell_type": "markdown",
   "source": "## Process / Scenario",
   "metadata": {
    "formattedRanges": [],
    "cell_id": "159b9c46a213409e920579c3410e114e",
    "tags": [],
    "is_collapsed": false,
    "deepnote_cell_type": "text-cell-h2"
   }
  },
  {
   "cell_type": "markdown",
   "source": "The following \"Order Fulfilment\" process model orchestrates three REST APIs which are defined below.\n\n![](/images/REST.png)\n\n### Tasks\nInstruction to run/do the exercise:\n1. Run the notebook in Deepnote.\n2. Allow incoming connections in Deepnote and copy the URL.\n3. Have a look at the service documentation generated: `<https://deepnote incoming connections URL>/docs`\n4. Download the process model ([download BPMN model - here](https://cdn.jsdelivr.net/gh/DigiBP/digibpnotes@main/modelling/Distributed%20Systems%20and%20Errors/REST.bpmn)) and open it in Camunda Modeler.\n5. Adjust the URL in all the service tasks.\n6. Deploy the process model with the Camunda Modeler to the classroom instance with your **tenant**.\n7. Run the process model from the the Camunda Modeler.\n8. Investigate the process instantiated in the Camunda Cockpit and inspect the Deepnote output.",
   "metadata": {
    "cell_id": "10d4d4a30d2d4bdcbc43ac7b87ee4910",
    "tags": [],
    "deepnote_cell_type": "markdown",
    "deepnote_cell_height": 666.2833251953125
   }
  },
  {
   "cell_type": "markdown",
   "source": "## Message Model",
   "metadata": {
    "formattedRanges": [],
    "cell_id": "ef69aba0f57240e0afe9224a2ba62b54",
    "tags": [],
    "is_collapsed": false,
    "deepnote_cell_type": "text-cell-h2"
   }
  },
  {
   "cell_type": "markdown",
   "source": "Below you will find the message model that is used for the exchange (request-response):",
   "metadata": {
    "cell_id": "c3ddfca7160f44d88b31996d23949ed3",
    "tags": [],
    "deepnote_cell_type": "markdown",
    "deepnote_cell_height": 52.399993896484375
   }
  },
  {
   "cell_type": "code",
   "metadata": {
    "tags": [],
    "deepnote_to_be_reexecuted": false,
    "source_hash": "24a5cedb",
    "execution_start": 1649143845747,
    "execution_millis": 168,
    "cell_id": "00003-e7a517cd-8f91-4a18-a19a-776ccc7d4168",
    "output_cleared": true,
    "owner_user_id": "b81d8aca-38ab-4463-9146-b4459821842a",
    "deepnote_cell_type": "code",
    "deepnote_cell_height": 256
   },
   "source": "from typing import Optional\nfrom pydantic import BaseModel\n\n\nclass Message(BaseModel):\n    businessKey: str\n    tenant: str\n    command: Optional[str] = None\n    event: Optional[str] = None\n    payload: Optional[str] = None\n",
   "execution_count": null,
   "outputs": []
  },
  {
   "cell_type": "markdown",
   "source": "## Order Fulfillment API(s)",
   "metadata": {
    "formattedRanges": [],
    "cell_id": "b63d1855c86f45c3b31af5426ca52afd",
    "tags": [],
    "is_collapsed": false,
    "deepnote_cell_type": "text-cell-h2"
   }
  },
  {
   "cell_type": "markdown",
   "source": "The following code block contains the API definitions of three microservices (payment, inventory and shipping), implemented using [FastAPI](https://fastapi.tiangolo.com/), a lightweight Python API framework:",
   "metadata": {
    "cell_id": "22832b81f50a4c8385c5c0ee0ee55662",
    "tags": [],
    "deepnote_cell_type": "markdown",
    "deepnote_cell_height": 74.80000305175781
   }
  },
  {
   "cell_type": "code",
   "metadata": {
    "cell_id": "4a11ae406d0d474183685fbc562bb5d1",
    "tags": [],
    "deepnote_to_be_reexecuted": false,
    "source_hash": "b9078a0b",
    "execution_start": 1649143845920,
    "execution_millis": 411921,
    "output_cleared": true,
    "deepnote_cell_type": "code",
    "deepnote_cell_height": 688
   },
   "source": "from fastapi import FastAPI\n\nimport nest_asyncio\nimport uvicorn\n\napp = FastAPI()\n\n# Payment microservice API definition\n@app.put(\"/retrieve_payment/\")\nasync def retrieve_payment(message: Message):\n    message.event = \"Payment_Done\"\n    print(\"EVENT:    \" + message.event)\n    return message\n\n\n# Inventory microservice API definition\n@app.put(\"/fetch_goods/\")\nasync def fetch_goods(message: Message):\n    message.event = \"Goods_Fetched\"\n    print(\"EVENT:    \" + message.event)\n    return message\n\n\n# Shipping microservice API definition\n@app.put(\"/ship_goods/\")\nasync def ship_goods(message: Message):\n    message.event = \"Goods_Shipped\"\n    print(\"EVENT:    \" + message.event)\n    return message\n\n\n# Run API server\nnest_asyncio.apply()\nuvicorn.run(app, host=\"0.0.0.0\", port=8080)\n",
   "execution_count": null,
   "outputs": []
  },
  {
   "cell_type": "markdown",
   "source": "<a style='text-decoration:none;line-height:16px;display:flex;color:#5B5B62;padding:10px;justify-content:end;' href='https://deepnote.com?utm_source=created-in-deepnote-cell&projectId=5f4dd5da-1c7b-41a5-9634-cafd01851cb8' target=\"_blank\">\n<img alt='Created in deepnote.com' style='display:inline;max-height:16px;margin:0px;margin-right:7.5px;' src='data:image/svg+xml;base64,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' > </img>\nCreated in <span style='font-weight:600;margin-left:4px;'>Deepnote</span></a>",
   "metadata": {
    "tags": [],
    "created_in_deepnote_cell": true,
    "deepnote_cell_type": "markdown"
   }
  }
 ],
 "nbformat": 4,
 "nbformat_minor": 2,
 "metadata": {
  "orig_nbformat": 2,
  "deepnote": {
   "is_reactive": false
  },
  "deepnote_notebook_id": "eb2db050-4a3b-4caa-9955-f7397ff84c5b",
  "deepnote_execution_queue": []
 }
}