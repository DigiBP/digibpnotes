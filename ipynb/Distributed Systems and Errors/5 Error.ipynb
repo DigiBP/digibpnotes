{
 "cells": [
  {
   "cell_type": "markdown",
   "source": "# Error Handling",
   "metadata": {
    "cell_id": "88ab08eb930d4bf49ef8528797a77143",
    "tags": [],
    "is_collapsed": false,
    "deepnote_cell_type": "text-cell-h1"
   }
  },
  {
   "cell_type": "markdown",
   "source": "The following \"Order Fulfilment\" process model orchestrates three microservices which are defined below. However, there is a 50/50 chance that the request for payment or fetching goods will fail.\n\n![](/images/Error-Event-Sub.png)\n\n### Tasks\nInstruction to run/do the exercise:\n1. Download the initial process model ([download BPMN model - here](https://cdn.jsdelivr.net/gh/DigiBP/digibpnotes@main/modelling/Distributed%20Systems%20and%20Errors/Error-Event-Sub-Initial.bpmn)) and open it in the Camunda Modeler.\n2. Extend the model as shown above in the final model using error events and compensations.\n3. Deploy the process model with the Camunda Modeler to the classroom instance with your **tenant**.\n4. Make sure that you have the correct Camunda engine URL:",
   "metadata": {
    "cell_id": "5f034ec227ab42599244aedf646ee1c4",
    "tags": [],
    "deepnote_cell_type": "markdown",
    "deepnote_cell_height": 926.0833129882812
   }
  },
  {
   "cell_type": "code",
   "metadata": {
    "deepnote_variable_name": "camunda_eninge_rest",
    "deepnote_variable_value": "https://digibp.herokuapp.com/engine-rest",
    "deepnote_to_be_reexecuted": false,
    "source_hash": "2f31b90",
    "execution_start": 1649151046174,
    "execution_millis": 1,
    "cell_id": "00001-202066b8-7141-46e5-b302-357031d0ec35",
    "deepnote_cell_type": "input-text"
   },
   "source": "camunda_eninge_rest = 'https://digibp.herokuapp.com/engine-rest'",
   "outputs": [],
   "execution_count": null
  },
  {
   "cell_type": "markdown",
   "source": "5. Run the process model from the the Camunda Modeler.\n6. Make sure that you use the right tenant:",
   "metadata": {
    "cell_id": "c52a059fc4024f9ba97e5e3618e78def",
    "tags": [],
    "deepnote_cell_type": "markdown",
    "deepnote_cell_height": 94.80000305175781
   }
  },
  {
   "cell_type": "code",
   "metadata": {
    "deepnote_variable_name": "tenant",
    "deepnote_variable_value": "showcase",
    "deepnote_to_be_reexecuted": false,
    "source_hash": "ea2f0b89",
    "execution_start": 1649152033615,
    "execution_millis": 1,
    "cell_id": "59d6c2bb-bc62-4e33-aa3f-81de2ab2dbaf",
    "deepnote_cell_type": "input-text"
   },
   "source": "tenant = 'showcase'",
   "execution_count": 1,
   "outputs": []
  },
  {
   "cell_type": "markdown",
   "source": "7. Run the notebook in Deepnote.\n8. Investigate the process instantiated in the Camunda Cockpit and inspect the Deepnote output.",
   "metadata": {
    "cell_id": "2e9ffe6ea5ce4f59ac10a1bdf99f2a5b",
    "tags": [],
    "deepnote_cell_type": "markdown",
    "deepnote_cell_height": 94.80000305175781
   }
  },
  {
   "cell_type": "markdown",
   "source": "## Topic Subscription of (sometimes) failing Microservices",
   "metadata": {
    "cell_id": "aee644c9853346da9828a7cf7a7af3b5",
    "tags": [],
    "is_collapsed": false,
    "deepnote_cell_type": "text-cell-h2"
   }
  },
  {
   "cell_type": "markdown",
   "source": "In the following, three microservices are imitated, each of which has a subscription of a topic command to be received. After a message is received, the task is completed. Here, a [custom-developed Camunda client worker implementation in Python](https://github.com/DigiBP/digibp-camunda-external-python-task/blob/master/cam.py) is used, which encapsulates the [external client REST API](https://docs.camunda.org/manual/latest/reference/rest/external-task/) of Camunda.\n\nThere is a random 50/50 chance that `retrievePayment` or `fetchGoods` are failing by sending a BPMN error.",
   "metadata": {
    "cell_id": "f6b55939357043bdb9ebeaa15394f90e",
    "tags": [],
    "deepnote_cell_type": "markdown",
    "deepnote_cell_height": 111.19999694824219
   }
  },
  {
   "cell_type": "code",
   "metadata": {
    "tags": [],
    "deepnote_to_be_reexecuted": false,
    "source_hash": "69f6c98d",
    "execution_start": 1649151046176,
    "execution_millis": 265111,
    "cell_id": "00002-d78e23ff-7eea-4931-86bb-cfc9ee063770",
    "output_cleared": false,
    "deepnote_cell_type": "code",
    "deepnote_cell_height": 1565
   },
   "source": "import httpimport, random\n\nwith httpimport.github_repo(\"DigiBP\", \"digibp-camunda-external-python-task\", \"cam\"):\n    import cam\n\n# Initialize worker client\nworker = cam.Client(camunda_eninge_rest)\n\n# Payment microservice callback function\ndef retrievePayment(taskid, response):\n    if random.randint(0, 1):\n        print(\"Payment Done\")\n        worker.complete(taskid)\n    else:\n        print(\"PaymentFailed\")\n        worker.error(taskid, \"PaymentFailed\")\n\n\n# Refund payment microservice callback function\ndef refundPayment(taskid, response):\n    print(\"Refund Payment Done\")\n    worker.complete(taskid)\n\n\n# Inventory microservice callback function\ndef fetchGoods(taskid, response):\n    if random.randint(0, 1):\n        print(\"Goods Fetched\")\n        worker.complete(taskid)\n    else:\n        print(\"OutOfStock\")\n        worker.error(taskid, \"OutOfStock\")\n\n\n# Shipment microservice callback function\ndef shipGoods(taskid, response):\n    print(\"Goods Shipped\")\n    worker.complete(taskid)\n\n\n# Subscriptions on topics\nworker.subscribe(\"retrievePayment\", retrievePayment, tenant)\nworker.subscribe(\"refundPayment\", refundPayment, tenant)\nworker.subscribe(\"fetchGoods\", fetchGoods, tenant)\nworker.subscribe(\"shipGoods\", shipGoods, tenant)\n\n# Run polling server\nworker.polling()\n",
   "outputs": [
    {
     "name": "stdout",
     "text": "polling subscription: retrievePayment\npolling subscription: refundPayment\npolling subscription: fetchGoods\npolling subscription: shipGoods\n200\nPaymentFailed\n\n204\npolling subscription: retrievePayment\n200\n200\n200\npolling subscription: fetchGoods\npolling subscription: shipGoods\npolling subscription: refundPayment\n200\npolling subscription: retrievePayment\n200200\n\n200\npolling subscription: shipGoods\npolling subscription: refundPayment\npolling subscription: fetchGoods\n200\npolling subscription: retrievePayment\n200\nPaymentFailed\n\n204\npolling subscription: retrievePayment\n200\nPayment Done\n\n204\npolling subscription: retrievePayment\n200\nGoods Fetched\n\n204\npolling subscription: fetchGoods\n200\nGoods Shipped\n\n204\npolling subscription: shipGoods\n200\npolling subscription: refundPayment\n200\nPaymentFailed\n\n204\npolling subscription: retrievePayment\n200\nPaymentFailed\n\n204\npolling subscription: retrievePayment\n200\npolling subscription: fetchGoods\n200\npolling subscription: shipGoods\n200\nPaymentFailed\n\n204\npolling subscription: retrievePayment\n200\nPaymentFailed\n\n204\npolling subscription: retrievePayment\n200\nPaymentFailed\n\n204\npolling subscription: retrievePayment\n200\nPayment Done\n\n204\npolling subscription: retrievePayment\n200\nOutOfStock\n\n204\npolling subscription: fetchGoods\n200\nRefund Payment Done\n\n204\npolling subscription: refundPayment\n200\npolling subscription: shipGoods\n200\npolling subscription: retrievePayment\n200\npolling subscription: fetchGoods\n200\npolling subscription: refundPayment\n200\npolling subscription: shipGoods\n200\npolling subscription: retrievePayment\n200\npolling subscription: fetchGoods\n200\npolling subscription: refundPayment\n200\npolling subscription: shipGoods\n200\npolling subscription: retrievePayment\n200\npolling subscription: fetchGoods\n200\npolling subscription: refundPayment\n200\npolling subscription: shipGoods\n200\npolling subscription: retrievePayment\n200\npolling subscription: fetchGoods\n200\npolling subscription: refundPayment\n200\npolling subscription: shipGoods\n",
     "output_type": "stream"
    }
   ],
   "execution_count": null
  },
  {
   "cell_type": "markdown",
   "source": "<a style='text-decoration:none;line-height:16px;display:flex;color:#5B5B62;padding:10px;justify-content:end;' href='https://deepnote.com?utm_source=created-in-deepnote-cell&projectId=5f4dd5da-1c7b-41a5-9634-cafd01851cb8' target=\"_blank\">\n<img alt='Created in deepnote.com' style='display:inline;max-height:16px;margin:0px;margin-right:7.5px;' src='data:image/svg+xml;base64,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' > </img>\nCreated in <span style='font-weight:600;margin-left:4px;'>Deepnote</span></a>",
   "metadata": {
    "tags": [],
    "created_in_deepnote_cell": true,
    "deepnote_cell_type": "markdown"
   }
  }
 ],
 "nbformat": 4,
 "nbformat_minor": 2,
 "metadata": {
  "orig_nbformat": 2,
  "deepnote": {
   "is_reactive": false
  },
  "deepnote_notebook_id": "5b965be6-fa06-4c47-9d4a-e645e1b2637b",
  "deepnote_execution_queue": []
 }
}